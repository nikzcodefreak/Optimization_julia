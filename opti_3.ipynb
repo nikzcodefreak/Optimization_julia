{
 "cells": [
  {
   "cell_type": "code",
   "execution_count": 2,
   "metadata": {
    "collapsed": false
   },
   "outputs": [
    {
     "name": "stdout",
     "output_type": "stream",
     "text": [
      "----------------------------------------------------------------------------\n",
      "\tSCS v1.1.8 - Splitting Conic Solver\n",
      "\t(c) Brendan O'Donoghue, Stanford University, 2012-2015\n",
      "----------------------------------------------------------------------------\n",
      "Lin-sys: sparse-direct, nnz in A = 9\n",
      "eps = 1.00e-04, alpha = 1.80, max_iters = 20000, normalize = 1, scale = 5.00\n",
      "Variables n = 3, constraints m = 6\n",
      "Cones:\tprimal zero / dual free vars: 1\n",
      "\tlinear vars: 5\n",
      "Setup time: 7.62e-05s\n",
      "----------------------------------------------------------------------------\n",
      " Iter | pri res | dua res | rel gap | pri obj | dua obj | kap/tau | time (s)\n",
      "----------------------------------------------------------------------------\n",
      "     0|      inf       inf      -nan      -inf      -nan       inf  2.48e-05 \n",
      "   100| 3.37e-04  9.32e-03  2.52e-04 -2.25e+03 -2.25e+03  0.00e+00  1.38e-04 \n",
      "   180| 8.85e-06  3.38e-05  4.68e-07 -2.25e+03 -2.25e+03  0.00e+00  2.22e-04 \n",
      "----------------------------------------------------------------------------\n",
      "Status: Solved\n",
      "Timing: Solve time: 2.25e-04s\n",
      "\tLin-sys: nnz in L factor: 19, avg solve time: 3.36e-07s\n",
      "\tCones: avg projection time: 9.72e-08s\n",
      "----------------------------------------------------------------------------\n",
      "Error metrics:\n",
      "dist(s, K) = 1.9196e-16, dist(y, K*) = 0.0000e+00, s'y/m = 2.2573e-15\n",
      "|Ax + s - b|_2 / (1 + |b|_2) = 8.8472e-06\n",
      "|A'y + c|_2 / (1 + |c|_2) = 3.3769e-05\n",
      "|c'x + b'y| / (1 + |c'x| + |b'y|) = 4.6770e-07\n",
      "----------------------------------------------------------------------------\n",
      "c'x = -2250.0164, -b'y = -2250.0143\n",
      "============================================================================\n"
     ]
    }
   ],
   "source": [
    "using Convex\n",
    "x=Variable()\n",
    "y=Variable()\n",
    "z=maximize(8*x+5*y)\n",
    "z.constraints+=20*x+10*y<=5000\n",
    "z.constraints+=x<=150\n",
    "z.constraints+=y<=250\n",
    "z.constraints+=x>=0\n",
    "z.constraints+=y>=0\n",
    "solve!(z)"
   ]
  },
  {
   "cell_type": "code",
   "execution_count": 3,
   "metadata": {
    "collapsed": false
   },
   "outputs": [
    {
     "name": "stdout",
     "output_type": "stream",
     "text": [
      "125.0027166170385\n",
      "249.99899666234666\n",
      "2250.0164174580973\n"
     ]
    }
   ],
   "source": [
    "println(x.value)\n",
    "println(y.value)\n",
    "println(z.optval)"
   ]
  },
  {
   "cell_type": "code",
   "execution_count": null,
   "metadata": {
    "collapsed": true
   },
   "outputs": [],
   "source": []
  }
 ],
 "metadata": {
  "kernelspec": {
   "display_name": "Julia 0.5.0",
   "language": "julia",
   "name": "julia-0.5"
  },
  "language_info": {
   "file_extension": ".jl",
   "mimetype": "application/julia",
   "name": "julia",
   "version": "0.5.0"
  }
 },
 "nbformat": 4,
 "nbformat_minor": 0
}
