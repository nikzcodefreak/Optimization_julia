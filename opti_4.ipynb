{
 "cells": [
  {
   "cell_type": "code",
   "execution_count": 1,
   "metadata": {
    "collapsed": false
   },
   "outputs": [
    {
     "name": "stdout",
     "output_type": "stream",
     "text": [
      "----------------------------------------------------------------------------\n",
      "\tSCS v1.1.8 - Splitting Conic Solver\n",
      "\t(c) Brendan O'Donoghue, Stanford University, 2012-2015\n",
      "----------------------------------------------------------------------------\n",
      "Lin-sys: sparse-direct, nnz in A = 9\n",
      "eps = 1.00e-04, alpha = 1.80, max_iters = 20000, normalize = 1, scale = 5.00\n",
      "Variables n = 3, constraints m = 5\n",
      "Cones:\tprimal zero / dual free vars: 1\n",
      "\tlinear vars: 4\n",
      "Setup time: 8.09e-05s\n",
      "----------------------------------------------------------------------------\n",
      " Iter | pri res | dua res | rel gap | pri obj | dua obj | kap/tau | time (s)\n",
      "----------------------------------------------------------------------------\n",
      "     0|      inf       inf      -nan       inf       inf       inf  3.60e-05 \n",
      "   100| 5.89e-05  1.13e-03  8.85e-07  1.27e+02  1.27e+02  0.00e+00  1.20e-04 \n",
      "   160| 1.14e-06  3.30e-05  2.02e-07  1.27e+02  1.27e+02  0.00e+00  1.70e-04 \n",
      "----------------------------------------------------------------------------\n",
      "Status: Solved\n",
      "Timing: Solve time: 1.73e-04s\n",
      "\tLin-sys: nnz in L factor: 19, avg solve time: 2.58e-07s\n",
      "\tCones: avg projection time: 6.05e-08s\n",
      "----------------------------------------------------------------------------\n",
      "Error metrics:\n",
      "dist(s, K) = 1.2729e-15, dist(y, K*) = 0.0000e+00, s'y/m = 1.7529e-16\n",
      "|Ax + s - b|_2 / (1 + |b|_2) = 1.1362e-06\n",
      "|A'y + c|_2 / (1 + |c|_2) = 3.2966e-05\n",
      "|c'x + b'y| / (1 + |c'x| + |b'y|) = 2.0172e-07\n",
      "----------------------------------------------------------------------------\n",
      "c'x = 127.0001, -b'y = 127.0001\n",
      "============================================================================\n"
     ]
    },
    {
     "name": "stderr",
     "output_type": "stream",
     "text": [
      "WARNING: Method definition norm(Convex.AbstractExpr, Symbol) in module Convex at /home/nikhil/.julia/v0.5/Convex/src/atoms/second_order_cone/norm.jl:45 overwritten at deprecated.jl:49.\n"
     ]
    }
   ],
   "source": [
    "using Convex\n",
    "x=Variable()\n",
    "y=Variable()\n",
    "z=minimize(5*x+4*y)\n",
    "z.constraints+=2*x+3*y>=90\n",
    "z.constraints+=4*x+y>=40\n",
    "z.constraints+=x>=0\n",
    "z.constraints+=y>=0\n",
    "solve!(z)"
   ]
  },
  {
   "cell_type": "code",
   "execution_count": 2,
   "metadata": {
    "collapsed": false
   },
   "outputs": [
    {
     "name": "stdout",
     "output_type": "stream",
     "text": [
      "3.0000222390689264\n",
      "28.00000347881503\n",
      "127.00014871753793\n"
     ]
    }
   ],
   "source": [
    "println(x.value)\n",
    "println(y.value)\n",
    "println(z.optval)"
   ]
  },
  {
   "cell_type": "code",
   "execution_count": null,
   "metadata": {
    "collapsed": true
   },
   "outputs": [],
   "source": []
  }
 ],
 "metadata": {
  "kernelspec": {
   "display_name": "Julia 0.5.0",
   "language": "julia",
   "name": "julia-0.5"
  },
  "language_info": {
   "file_extension": ".jl",
   "mimetype": "application/julia",
   "name": "julia",
   "version": "0.5.0"
  }
 },
 "nbformat": 4,
 "nbformat_minor": 0
}
