{
 "cells": [
  {
   "cell_type": "code",
   "execution_count": 3,
   "metadata": {
    "collapsed": false
   },
   "outputs": [],
   "source": [
    "using Convex\n"
   ]
  },
  {
   "cell_type": "code",
   "execution_count": 7,
   "metadata": {
    "collapsed": false
   },
   "outputs": [
    {
     "data": {
      "text/plain": [
       "Variable of\n",
       "size: (1, 1)\n",
       "sign: Convex.NoSign()\n",
       "vexity: Convex.AffineVexity()"
      ]
     },
     "execution_count": 7,
     "metadata": {},
     "output_type": "execute_result"
    }
   ],
   "source": [
    "x=Variable()\n",
    "y=Variable()"
   ]
  },
  {
   "cell_type": "code",
   "execution_count": 9,
   "metadata": {
    "collapsed": false
   },
   "outputs": [
    {
     "name": "stdout",
     "output_type": "stream",
     "text": [
      "----------------------------------------------------------------------------\n",
      "\tSCS v1.1.8 - Splitting Conic Solver\n",
      "\t(c) Brendan O'Donoghue, Stanford University, 2012-2015\n",
      "----------------------------------------------------------------------------\n",
      "Lin-sys: sparse-direct, nnz in A = 9\n",
      "eps = 1.00e-04, alpha = 1.80, max_iters = 20000, normalize = 1, scale = 5.00\n",
      "Variables n = 3, constraints m = 5\n",
      "Cones:\tprimal zero / dual free vars: 1\n",
      "\tlinear vars: 4\n",
      "Setup time: 7.63e-05s\n",
      "----------------------------------------------------------------------------\n",
      " Iter | pri res | dua res | rel gap | pri obj | dua obj | kap/tau | time (s)\n",
      "----------------------------------------------------------------------------\n",
      "     0|      inf       inf      -nan       inf       inf       inf  9.26e-05 \n",
      "   100| 1.44e-04  6.31e-03  1.44e-05  4.40e+00  4.40e+00  1.63e-16  1.74e-04 \n",
      "   200| 9.51e-07  2.05e-04  1.26e-06  4.40e+00  4.40e+00  3.26e-16  2.51e-04 \n",
      "   220| 7.21e-07  8.71e-05  6.41e-07  4.40e+00  4.40e+00  0.00e+00  2.70e-04 \n",
      "----------------------------------------------------------------------------\n",
      "Status: Solved\n",
      "Timing: Solve time: 2.73e-04s\n",
      "\tLin-sys: nnz in L factor: 19, avg solve time: 2.47e-07s\n",
      "\tCones: avg projection time: 5.84e-08s\n",
      "----------------------------------------------------------------------------\n",
      "Error metrics:\n",
      "dist(s, K) = 6.0617e-17, dist(y, K*) = 0.0000e+00, s'y/m = -2.2738e-17\n",
      "|Ax + s - b|_2 / (1 + |b|_2) = 7.2060e-07\n",
      "|A'y + c|_2 / (1 + |c|_2) = 8.7051e-05\n",
      "|c'x + b'y| / (1 + |c'x| + |b'y|) = 6.4051e-07\n",
      "----------------------------------------------------------------------------\n",
      "c'x = 4.4000, -b'y = 4.4000\n",
      "============================================================================\n"
     ]
    }
   ],
   "source": [
    "z=minimize(6*x+10*y)\n",
    "z.constraints+=2*x+y>=1\n",
    "z.constraints+=5*x+10*y>=4\n",
    "z.constraints+=x>=0\n",
    "z.constraints+=y>=0\n",
    "solve!(z)"
   ]
  },
  {
   "cell_type": "code",
   "execution_count": 12,
   "metadata": {
    "collapsed": false
   },
   "outputs": [
    {
     "name": "stdout",
     "output_type": "stream",
     "text": [
      "0.40000161051387967\n"
     ]
    }
   ],
   "source": [
    "println(x.value)"
   ]
  },
  {
   "cell_type": "code",
   "execution_count": 19,
   "metadata": {
    "collapsed": false
   },
   "outputs": [
    {
     "name": "stdout",
     "output_type": "stream",
     "text": [
      "0.19999894423772416\n"
     ]
    }
   ],
   "source": [
    "println(y.value)"
   ]
  },
  {
   "cell_type": "code",
   "execution_count": 20,
   "metadata": {
    "collapsed": false
   },
   "outputs": [
    {
     "name": "stdout",
     "output_type": "stream",
     "text": [
      "4.40000016300488"
     ]
    }
   ],
   "source": [
    "print(z.optval)"
   ]
  },
  {
   "cell_type": "code",
   "execution_count": null,
   "metadata": {
    "collapsed": true
   },
   "outputs": [],
   "source": []
  }
 ],
 "metadata": {
  "kernelspec": {
   "display_name": "Julia 0.5.0",
   "language": "julia",
   "name": "julia-0.5"
  },
  "language_info": {
   "file_extension": ".jl",
   "mimetype": "application/julia",
   "name": "julia",
   "version": "0.5.0"
  }
 },
 "nbformat": 4,
 "nbformat_minor": 0
}
