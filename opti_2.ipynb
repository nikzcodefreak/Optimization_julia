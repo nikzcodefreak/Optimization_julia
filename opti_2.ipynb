{
 "cells": [
  {
   "cell_type": "code",
   "execution_count": 1,
   "metadata": {
    "collapsed": false
   },
   "outputs": [
    {
     "name": "stderr",
     "output_type": "stream",
     "text": [
      "WARNING: Method definition norm(Convex.AbstractExpr, Symbol) in module Convex at /home/nikhil/.julia/v0.5/Convex/src/atoms/second_order_cone/norm.jl:45 overwritten at deprecated.jl:49.\n"
     ]
    }
   ],
   "source": [
    "using Convex"
   ]
  },
  {
   "cell_type": "code",
   "execution_count": 2,
   "metadata": {
    "collapsed": false
   },
   "outputs": [
    {
     "data": {
      "text/plain": [
       "Variable of\n",
       "size: (1, 1)\n",
       "sign: Convex.NoSign()\n",
       "vexity: Convex.AffineVexity()"
      ]
     },
     "execution_count": 2,
     "metadata": {},
     "output_type": "execute_result"
    }
   ],
   "source": [
    "x=Variable()\n",
    "y=Variable()"
   ]
  },
  {
   "cell_type": "code",
   "execution_count": 5,
   "metadata": {
    "collapsed": false
   },
   "outputs": [
    {
     "name": "stdout",
     "output_type": "stream",
     "text": [
      "----------------------------------------------------------------------------\n",
      "\tSCS v1.1.8 - Splitting Conic Solver\n",
      "\t(c) Brendan O'Donoghue, Stanford University, 2012-2015\n",
      "----------------------------------------------------------------------------\n",
      "Lin-sys: sparse-direct, nnz in A = 9\n",
      "eps = 1.00e-04, alpha = 1.80, max_iters = 20000, normalize = 1, scale = 5.00\n",
      "Variables n = 3, constraints m = 5\n",
      "Cones:\tprimal zero / dual free vars: 1\n",
      "\tlinear vars: 4\n",
      "Setup time: 7.71e-05s\n",
      "----------------------------------------------------------------------------\n",
      " Iter | pri res | dua res | rel gap | pri obj | dua obj | kap/tau | time (s)\n",
      "----------------------------------------------------------------------------\n",
      "     0|      inf       inf      -nan      -inf      -nan       inf  9.32e-05 \n",
      "   100| 1.06e-03  1.39e-01  3.82e-04 -1.40e+04 -1.40e+04  2.52e-13  1.77e-04 \n",
      "   200| 3.82e-05  1.01e-03  3.23e-06 -1.40e+04 -1.40e+04  2.52e-13  2.54e-04 \n",
      "   300| 1.57e-06  1.40e-04  3.53e-07 -1.40e+04 -1.40e+04  2.52e-13  3.31e-04 \n",
      "   320| 8.03e-07  8.35e-05  2.15e-07 -1.40e+04 -1.40e+04  2.52e-13  3.50e-04 \n",
      "----------------------------------------------------------------------------\n",
      "Status: Solved\n",
      "Timing: Solve time: 3.53e-04s\n",
      "\tLin-sys: nnz in L factor: 19, avg solve time: 2.41e-07s\n",
      "\tCones: avg projection time: 5.77e-08s\n",
      "----------------------------------------------------------------------------\n",
      "Error metrics:\n",
      "dist(s, K) = 1.1617e-14, dist(y, K*) = 0.0000e+00, s'y/m = -3.1946e-14\n",
      "|Ax + s - b|_2 / (1 + |b|_2) = 8.0308e-07\n",
      "|A'y + c|_2 / (1 + |c|_2) = 8.3484e-05\n",
      "|c'x + b'y| / (1 + |c'x| + |b'y|) = 2.1477e-07\n",
      "----------------------------------------------------------------------------\n",
      "c'x = -14000.0074, -b'y = -14000.0014\n",
      "============================================================================\n"
     ]
    }
   ],
   "source": [
    "z=maximize(30*x+20*y)\n",
    "z.constraints+=2*x+y<=800\n",
    "z.constraints+=x+2*y<=1000\n",
    "z.constraints+=x>=0\n",
    "z.constraints+=y>=0\n",
    "solve!(z)"
   ]
  },
  {
   "cell_type": "code",
   "execution_count": 6,
   "metadata": {
    "collapsed": false
   },
   "outputs": [
    {
     "name": "stdout",
     "output_type": "stream",
     "text": [
      "200.00058199744265\n",
      "399.9995310029106\n",
      "14000.007444398027\n"
     ]
    }
   ],
   "source": [
    "println(x.value)\n",
    "println(y.value)\n",
    "println(z.optval)"
   ]
  },
  {
   "cell_type": "code",
   "execution_count": null,
   "metadata": {
    "collapsed": true
   },
   "outputs": [],
   "source": []
  }
 ],
 "metadata": {
  "kernelspec": {
   "display_name": "Julia 0.5.0",
   "language": "julia",
   "name": "julia-0.5"
  },
  "language_info": {
   "file_extension": ".jl",
   "mimetype": "application/julia",
   "name": "julia",
   "version": "0.5.0"
  }
 },
 "nbformat": 4,
 "nbformat_minor": 0
}
